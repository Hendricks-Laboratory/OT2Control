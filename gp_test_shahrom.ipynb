{
 "cells": [
  {
   "cell_type": "code",
   "execution_count": 1,
   "metadata": {},
   "outputs": [],
   "source": [
    "import numpy as np\n",
    "from ml_models import OptimizationModel\n"
   ]
  },
  {
   "cell_type": "code",
   "execution_count": 2,
   "metadata": {},
   "outputs": [
    {
     "ename": "AttributeError",
     "evalue": "'list' object has no attribute 'has_constraints'",
     "output_type": "error",
     "traceback": [
      "\u001b[0;31m---------------------------------------------------------------------------\u001b[0m",
      "\u001b[0;31mAttributeError\u001b[0m                            Traceback (most recent call last)",
      "Cell \u001b[0;32mIn[2], line 16\u001b[0m\n\u001b[1;32m     13\u001b[0m fixed_reagents \u001b[38;5;241m=\u001b[39m [(\u001b[38;5;124m'\u001b[39m\u001b[38;5;124mreagent2\u001b[39m\u001b[38;5;124m'\u001b[39m, \u001b[38;5;241m5\u001b[39m), (\u001b[38;5;124m'\u001b[39m\u001b[38;5;124mreagent3\u001b[39m\u001b[38;5;124m'\u001b[39m, \u001b[38;5;241m7\u001b[39m)]  \u001b[38;5;66;03m# Example fixed reagents with volumes\u001b[39;00m\n\u001b[1;32m     15\u001b[0m \u001b[38;5;66;03m# Initialize the optimization model\u001b[39;00m\n\u001b[0;32m---> 16\u001b[0m opt_model \u001b[38;5;241m=\u001b[39m \u001b[43mOptimizationModel\u001b[49m\u001b[43m(\u001b[49m\u001b[43mbounds\u001b[49m\u001b[43m,\u001b[49m\u001b[43m \u001b[49m\u001b[43mtarget_value\u001b[49m\u001b[43m,\u001b[49m\u001b[43m \u001b[49m\u001b[43mreagent_info\u001b[49m\u001b[43m,\u001b[49m\u001b[43m \u001b[49m\u001b[43mfixed_reagents\u001b[49m\u001b[43m)\u001b[49m\n\u001b[1;32m     18\u001b[0m \u001b[38;5;66;03m# Get initial design samples\u001b[39;00m\n\u001b[1;32m     19\u001b[0m initial_design \u001b[38;5;241m=\u001b[39m opt_model\u001b[38;5;241m.\u001b[39mget_initial_design()\n",
      "File \u001b[0;32m~/Documents/Whitman College/Fall 2023/Capstone/OT2Control/ml_models.py:746\u001b[0m, in \u001b[0;36mOptimizationModel.__init__\u001b[0;34m(self, bounds, target_value, reagent_info, fixed_reagents, initial_design_numdata)\u001b[0m\n\u001b[1;32m    744\u001b[0m \u001b[38;5;28mself\u001b[39m\u001b[38;5;241m.\u001b[39mfixed_reagents \u001b[38;5;241m=\u001b[39m fixed_reagents\n\u001b[1;32m    745\u001b[0m \u001b[38;5;28mself\u001b[39m\u001b[38;5;241m.\u001b[39mreagent_info \u001b[38;5;241m=\u001b[39m reagent_info\n\u001b[0;32m--> 746\u001b[0m \u001b[38;5;28;43mself\u001b[39;49m\u001b[38;5;241;43m.\u001b[39;49m\u001b[43m_initialize_model\u001b[49m\u001b[43m(\u001b[49m\u001b[43m)\u001b[49m\n",
      "File \u001b[0;32m~/Documents/Whitman College/Fall 2023/Capstone/OT2Control/ml_models.py:759\u001b[0m, in \u001b[0;36mOptimizationModel._initialize_model\u001b[0;34m(self)\u001b[0m\n\u001b[1;32m    757\u001b[0m \u001b[38;5;28;01mdef\u001b[39;00m \u001b[38;5;21m_initialize_model\u001b[39m(\u001b[38;5;28mself\u001b[39m):\n\u001b[1;32m    758\u001b[0m \u001b[38;5;250m    \u001b[39m\u001b[38;5;124;03m\"\"\"Initializes the Bayesian Optimization model.\"\"\"\u001b[39;00m\n\u001b[0;32m--> 759\u001b[0m     \u001b[38;5;28mself\u001b[39m\u001b[38;5;241m.\u001b[39mdesign \u001b[38;5;241m=\u001b[39m \u001b[43mGPyOpt\u001b[49m\u001b[38;5;241;43m.\u001b[39;49m\u001b[43mexperiment_design\u001b[49m\u001b[38;5;241;43m.\u001b[39;49m\u001b[43minitial_design\u001b[49m\u001b[43m(\u001b[49m\u001b[38;5;124;43m'\u001b[39;49m\u001b[38;5;124;43msobol\u001b[39;49m\u001b[38;5;124;43m'\u001b[39;49m\u001b[43m,\u001b[49m\u001b[43m \u001b[49m\u001b[38;5;28;43mself\u001b[39;49m\u001b[38;5;241;43m.\u001b[39;49m\u001b[43mbounds\u001b[49m\u001b[43m,\u001b[49m\u001b[43m \u001b[49m\u001b[38;5;28;43mself\u001b[39;49m\u001b[38;5;241;43m.\u001b[39;49m\u001b[43minitial_design_numdata\u001b[49m\u001b[43m)\u001b[49m\n\u001b[1;32m    760\u001b[0m     \u001b[38;5;28mself\u001b[39m\u001b[38;5;241m.\u001b[39moptimizer \u001b[38;5;241m=\u001b[39m GPyOpt\u001b[38;5;241m.\u001b[39mmethods\u001b[38;5;241m.\u001b[39mBayesianOptimization(\n\u001b[1;32m    761\u001b[0m         f\u001b[38;5;241m=\u001b[39m\u001b[38;5;28;01mNone\u001b[39;00m,  \u001b[38;5;66;03m# Function is evaluated manually\u001b[39;00m\n\u001b[1;32m    762\u001b[0m         domain\u001b[38;5;241m=\u001b[39m\u001b[38;5;28mself\u001b[39m\u001b[38;5;241m.\u001b[39mbounds,\n\u001b[0;32m   (...)\u001b[0m\n\u001b[1;32m    767\u001b[0m         normalize_Y\u001b[38;5;241m=\u001b[39m\u001b[38;5;28;01mTrue\u001b[39;00m\n\u001b[1;32m    768\u001b[0m     )\n",
      "File \u001b[0;32m/Library/Frameworks/Python.framework/Versions/3.10/lib/python3.10/site-packages/GPyOpt/experiment_design/__init__.py:12\u001b[0m, in \u001b[0;36minitial_design\u001b[0;34m(design_name, space, init_points_count)\u001b[0m\n\u001b[1;32m     10\u001b[0m     design \u001b[38;5;241m=\u001b[39m RandomDesign(space)\n\u001b[1;32m     11\u001b[0m \u001b[38;5;28;01melif\u001b[39;00m design_name \u001b[38;5;241m==\u001b[39m \u001b[38;5;124m'\u001b[39m\u001b[38;5;124msobol\u001b[39m\u001b[38;5;124m'\u001b[39m:\n\u001b[0;32m---> 12\u001b[0m     design \u001b[38;5;241m=\u001b[39m \u001b[43mSobolDesign\u001b[49m\u001b[43m(\u001b[49m\u001b[43mspace\u001b[49m\u001b[43m)\u001b[49m\n\u001b[1;32m     13\u001b[0m \u001b[38;5;28;01melif\u001b[39;00m design_name \u001b[38;5;241m==\u001b[39m \u001b[38;5;124m'\u001b[39m\u001b[38;5;124mgrid\u001b[39m\u001b[38;5;124m'\u001b[39m:\n\u001b[1;32m     14\u001b[0m     design \u001b[38;5;241m=\u001b[39m GridDesign(space)\n",
      "File \u001b[0;32m/Library/Frameworks/Python.framework/Versions/3.10/lib/python3.10/site-packages/GPyOpt/experiment_design/sobol_design.py:14\u001b[0m, in \u001b[0;36mSobolDesign.__init__\u001b[0;34m(self, space)\u001b[0m\n\u001b[1;32m     13\u001b[0m \u001b[38;5;28;01mdef\u001b[39;00m \u001b[38;5;21m__init__\u001b[39m(\u001b[38;5;28mself\u001b[39m, space):\n\u001b[0;32m---> 14\u001b[0m     \u001b[38;5;28;01mif\u001b[39;00m \u001b[43mspace\u001b[49m\u001b[38;5;241;43m.\u001b[39;49m\u001b[43mhas_constraints\u001b[49m():\n\u001b[1;32m     15\u001b[0m         \u001b[38;5;28;01mraise\u001b[39;00m InvalidConfigError(\u001b[38;5;124m'\u001b[39m\u001b[38;5;124mSampling with constraints is not allowed by Sobol design\u001b[39m\u001b[38;5;124m'\u001b[39m)\n\u001b[1;32m     16\u001b[0m     \u001b[38;5;28msuper\u001b[39m(SobolDesign, \u001b[38;5;28mself\u001b[39m)\u001b[38;5;241m.\u001b[39m\u001b[38;5;21m__init__\u001b[39m(space)\n",
      "\u001b[0;31mAttributeError\u001b[0m: 'list' object has no attribute 'has_constraints'"
     ]
    }
   ],
   "source": [
    "# Define random bounds for the variables\n",
    "bounds = [{'name': 'var1', 'type': 'continuous', 'domain': (0, 10)},\n",
    "          {'name': 'var2', 'type': 'continuous', 'domain': (0, 10)},\n",
    "          {'name': 'var3', 'type': 'continuous', 'domain': (0, 10)}]\n",
    "\n",
    "# Define a random target value\n",
    "target_value = np.random.randint(1, 1000)\n",
    "\n",
    "# Define random reagent information\n",
    "reagent_info = {'reagent1': 20, 'reagent2': 30, 'reagent3': 25, 'reagent4': 50, 'reagent5': 15}  # Assuming volumes in μL\n",
    "\n",
    "# Define fixed reagents (randomly chosen)\n",
    "fixed_reagents = [('reagent2', 5), ('reagent3', 7)]  # Example fixed reagents with volumes\n",
    "\n",
    "# Initialize the optimization model\n",
    "opt_model = OptimizationModel(bounds, target_value, reagent_info, fixed_reagents)\n",
    "\n",
    "# Get initial design samples\n",
    "initial_design = opt_model.get_initial_design()\n",
    "\n",
    "# Test the model with random data\n",
    "num_tests = 5\n",
    "for i in range(num_tests):\n",
    "    # Generate random experimental data (just for demonstration purposes)\n",
    "    X_new = np.random.rand(1, len(bounds))\n",
    "    Y_new = np.random.rand()  # Random output value\n",
    "    \n",
    "    # Update the model with the new experimental data\n",
    "    opt_model.update_model(X_new, Y_new)\n",
    "    \n",
    "# Suggest the next location for experimentation\n",
    "next_location = opt_model.suggest_next_location()\n",
    "\n",
    "print(\"Initial Design:\")\n",
    "print(initial_design)\n",
    "print(\"\\nNext Location for Experimentation:\")\n",
    "print(next_location)"
   ]
  }
 ],
 "metadata": {
  "kernelspec": {
   "display_name": "Python 3",
   "language": "python",
   "name": "python3"
  },
  "language_info": {
   "codemirror_mode": {
    "name": "ipython",
    "version": 3
   },
   "file_extension": ".py",
   "mimetype": "text/x-python",
   "name": "python",
   "nbconvert_exporter": "python",
   "pygments_lexer": "ipython3",
   "version": "3.10.5"
  }
 },
 "nbformat": 4,
 "nbformat_minor": 2
}
