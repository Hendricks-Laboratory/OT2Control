{
 "cells": [
  {
   "cell_type": "code",
   "execution_count": 1,
   "metadata": {},
   "outputs": [],
   "source": [
    "import numpy as np\n",
    "from ml_models import OptimizationModel\n"
   ]
  },
  {
   "cell_type": "code",
   "execution_count": 2,
   "metadata": {},
   "outputs": [
    {
     "ename": "InvalidConfigError",
     "evalue": "Initial data for both X and Y is required when objective function is not provided",
     "output_type": "error",
     "traceback": [
      "\u001b[0;31m---------------------------------------------------------------------------\u001b[0m",
      "\u001b[0;31mInvalidConfigError\u001b[0m                        Traceback (most recent call last)",
      "\u001b[1;32m/Users/grantdidway/Documents/summer23/OT2Control/gp_test_shahrom.ipynb Cell 2\u001b[0m in \u001b[0;36m<cell line: 19>\u001b[0;34m()\u001b[0m\n\u001b[1;32m     <a href='vscode-notebook-cell:/Users/grantdidway/Documents/summer23/OT2Control/gp_test_shahrom.ipynb#W1sZmlsZQ%3D%3D?line=15'>16</a>\u001b[0m fixed_reagents \u001b[39m=\u001b[39m [(\u001b[39m'\u001b[39m\u001b[39mreagent2\u001b[39m\u001b[39m'\u001b[39m, \u001b[39m5\u001b[39m), (\u001b[39m'\u001b[39m\u001b[39mreagent3\u001b[39m\u001b[39m'\u001b[39m, \u001b[39m7\u001b[39m)]  \u001b[39m# Example fixed reagents with volumes\u001b[39;00m\n\u001b[1;32m     <a href='vscode-notebook-cell:/Users/grantdidway/Documents/summer23/OT2Control/gp_test_shahrom.ipynb#W1sZmlsZQ%3D%3D?line=17'>18</a>\u001b[0m \u001b[39m# Initialize the optimization model\u001b[39;00m\n\u001b[0;32m---> <a href='vscode-notebook-cell:/Users/grantdidway/Documents/summer23/OT2Control/gp_test_shahrom.ipynb#W1sZmlsZQ%3D%3D?line=18'>19</a>\u001b[0m opt_model \u001b[39m=\u001b[39m OptimizationModel(bounds, target_value, reagent_info, fixed_reagents)\n\u001b[1;32m     <a href='vscode-notebook-cell:/Users/grantdidway/Documents/summer23/OT2Control/gp_test_shahrom.ipynb#W1sZmlsZQ%3D%3D?line=20'>21</a>\u001b[0m \u001b[39m# Get initial design samples\u001b[39;00m\n\u001b[1;32m     <a href='vscode-notebook-cell:/Users/grantdidway/Documents/summer23/OT2Control/gp_test_shahrom.ipynb#W1sZmlsZQ%3D%3D?line=21'>22</a>\u001b[0m initial_design \u001b[39m=\u001b[39m opt_model\u001b[39m.\u001b[39mget_initial_design()\n",
      "File \u001b[0;32m~/Documents/summer23/OT2Control/ml_models.py:750\u001b[0m, in \u001b[0;36mOptimizationModel.__init__\u001b[0;34m(self, bounds, target_value, reagent_info, fixed_reagents, initial_design_numdata)\u001b[0m\n\u001b[1;32m    748\u001b[0m \u001b[39mself\u001b[39m\u001b[39m.\u001b[39mreagent_info \u001b[39m=\u001b[39m reagent_info\n\u001b[1;32m    749\u001b[0m \u001b[39mself\u001b[39m\u001b[39m.\u001b[39mexperiment_data \u001b[39m=\u001b[39m {\u001b[39m'\u001b[39m\u001b[39mX\u001b[39m\u001b[39m'\u001b[39m: [], \u001b[39m'\u001b[39m\u001b[39mY\u001b[39m\u001b[39m'\u001b[39m: []}  \u001b[39m# Initialize experiment data storage\u001b[39;00m\n\u001b[0;32m--> 750\u001b[0m \u001b[39mself\u001b[39;49m\u001b[39m.\u001b[39;49m_initialize_model()\n",
      "File \u001b[0;32m~/Documents/summer23/OT2Control/ml_models.py:769\u001b[0m, in \u001b[0;36mOptimizationModel._initialize_model\u001b[0;34m(self)\u001b[0m\n\u001b[1;32m    766\u001b[0m Y \u001b[39m=\u001b[39m np\u001b[39m.\u001b[39marray(\u001b[39mself\u001b[39m\u001b[39m.\u001b[39mexperiment_data[\u001b[39m'\u001b[39m\u001b[39mY\u001b[39m\u001b[39m'\u001b[39m])\u001b[39m.\u001b[39mreshape(\u001b[39m-\u001b[39m\u001b[39m1\u001b[39m, \u001b[39m1\u001b[39m)\n\u001b[1;32m    768\u001b[0m \u001b[39mself\u001b[39m\u001b[39m.\u001b[39mdesign \u001b[39m=\u001b[39m GPyOpt\u001b[39m.\u001b[39mexperiment_design\u001b[39m.\u001b[39minitial_design(\u001b[39m'\u001b[39m\u001b[39mlatin\u001b[39m\u001b[39m'\u001b[39m, \u001b[39mself\u001b[39m\u001b[39m.\u001b[39mspace, \u001b[39mself\u001b[39m\u001b[39m.\u001b[39minitial_design_numdata)\n\u001b[0;32m--> 769\u001b[0m \u001b[39mself\u001b[39m\u001b[39m.\u001b[39moptimizer \u001b[39m=\u001b[39m GPyOpt\u001b[39m.\u001b[39;49mmethods\u001b[39m.\u001b[39;49mBayesianOptimization(\n\u001b[1;32m    770\u001b[0m     f\u001b[39m=\u001b[39;49m\u001b[39mNone\u001b[39;49;00m,  \u001b[39m# Function is evaluated manually\u001b[39;49;00m\n\u001b[1;32m    771\u001b[0m     domain\u001b[39m=\u001b[39;49m\u001b[39mself\u001b[39;49m\u001b[39m.\u001b[39;49mbounds,\n\u001b[1;32m    772\u001b[0m     X\u001b[39m=\u001b[39;49mX \u001b[39mif\u001b[39;49;00m X\u001b[39m.\u001b[39;49msize \u001b[39melse\u001b[39;49;00m \u001b[39mNone\u001b[39;49;00m,\n\u001b[1;32m    773\u001b[0m     Y\u001b[39m=\u001b[39;49mY \u001b[39mif\u001b[39;49;00m Y\u001b[39m.\u001b[39;49msize \u001b[39melse\u001b[39;49;00m \u001b[39mNone\u001b[39;49;00m,\n\u001b[1;32m    774\u001b[0m     acquisition_type\u001b[39m=\u001b[39;49m\u001b[39m'\u001b[39;49m\u001b[39mEI\u001b[39;49m\u001b[39m'\u001b[39;49m,  \u001b[39m# Default acquisition type\u001b[39;49;00m\n\u001b[1;32m    775\u001b[0m     normalize_Y\u001b[39m=\u001b[39;49m\u001b[39mTrue\u001b[39;49;00m\n\u001b[1;32m    776\u001b[0m )\n",
      "File \u001b[0;32m~/opt/anaconda3/lib/python3.9/site-packages/GPyOpt/methods/bayesian_optimization.py:119\u001b[0m, in \u001b[0;36mBayesianOptimization.__init__\u001b[0;34m(self, f, domain, constraints, cost_withGradients, model_type, X, Y, initial_design_numdata, initial_design_type, acquisition_type, normalize_Y, exact_feval, acquisition_optimizer_type, model_update_interval, evaluator_type, batch_size, num_cores, verbosity, verbosity_model, maximize, de_duplication, **kwargs)\u001b[0m\n\u001b[1;32m    117\u001b[0m \u001b[39mself\u001b[39m\u001b[39m.\u001b[39minitial_design_type  \u001b[39m=\u001b[39m initial_design_type\n\u001b[1;32m    118\u001b[0m \u001b[39mself\u001b[39m\u001b[39m.\u001b[39minitial_design_numdata \u001b[39m=\u001b[39m initial_design_numdata\n\u001b[0;32m--> 119\u001b[0m \u001b[39mself\u001b[39;49m\u001b[39m.\u001b[39;49m_init_design_chooser()\n\u001b[1;32m    121\u001b[0m \u001b[39m# --- CHOOSE the model type. If an instance of a GPyOpt model is passed (possibly user defined), it is used.\u001b[39;00m\n\u001b[1;32m    122\u001b[0m \u001b[39mself\u001b[39m\u001b[39m.\u001b[39mmodel_type \u001b[39m=\u001b[39m model_type\n",
      "File \u001b[0;32m~/opt/anaconda3/lib/python3.9/site-packages/GPyOpt/methods/bayesian_optimization.py:190\u001b[0m, in \u001b[0;36mBayesianOptimization._init_design_chooser\u001b[0;34m(self)\u001b[0m\n\u001b[1;32m    188\u001b[0m \u001b[39m# If objective function was not provided, we require some initial sample data\u001b[39;00m\n\u001b[1;32m    189\u001b[0m \u001b[39mif\u001b[39;00m \u001b[39mself\u001b[39m\u001b[39m.\u001b[39mf \u001b[39mis\u001b[39;00m \u001b[39mNone\u001b[39;00m \u001b[39mand\u001b[39;00m (\u001b[39mself\u001b[39m\u001b[39m.\u001b[39mX \u001b[39mis\u001b[39;00m \u001b[39mNone\u001b[39;00m \u001b[39mor\u001b[39;00m \u001b[39mself\u001b[39m\u001b[39m.\u001b[39mY \u001b[39mis\u001b[39;00m \u001b[39mNone\u001b[39;00m):\n\u001b[0;32m--> 190\u001b[0m     \u001b[39mraise\u001b[39;00m InvalidConfigError(\u001b[39m\"\u001b[39m\u001b[39mInitial data for both X and Y is required when objective function is not provided\u001b[39m\u001b[39m\"\u001b[39m)\n\u001b[1;32m    192\u001b[0m \u001b[39m# Case 1:\u001b[39;00m\n\u001b[1;32m    193\u001b[0m \u001b[39mif\u001b[39;00m \u001b[39mself\u001b[39m\u001b[39m.\u001b[39mX \u001b[39mis\u001b[39;00m \u001b[39mNone\u001b[39;00m:\n",
      "\u001b[0;31mInvalidConfigError\u001b[0m: Initial data for both X and Y is required when objective function is not provided"
     ]
    }
   ],
   "source": [
    "# Define random bounds for the variables\n",
    "bounds = [{'name': 'var1', 'type': 'continuous', 'domain': (0, 10)},\n",
    "          {'name': 'var2', 'type': 'continuous', 'domain': (0, 10)},\n",
    "          {'name': 'var3', 'type': 'continuous', 'domain': (0, 10)}]\n",
    "\n",
    "\n",
    "\n",
    "\n",
    "# Define a random target value\n",
    "target_value = np.random.randint(1, 1000)\n",
    "\n",
    "# Define random reagent information\n",
    "reagent_info = {'reagent1': 20, 'reagent2': 30, 'reagent3': 25, 'reagent4': 50, 'reagent5': 15}  # Assuming volumes in μL\n",
    "\n",
    "# Define fixed reagents (randomly chosen)\n",
    "fixed_reagents = [('reagent2', 5), ('reagent3', 7)]  # Example fixed reagents with volumes\n",
    "\n",
    "# Initialize the optimization model\n",
    "opt_model = OptimizationModel(bounds, target_value, reagent_info, fixed_reagents)\n",
    "\n",
    "# Get initial design samples\n",
    "initial_design = opt_model.get_initial_design()\n",
    "\n",
    "# Test the model with random data\n",
    "num_tests = 5\n",
    "for i in range(num_tests):\n",
    "    # Generate random experimental data (just for demonstration purposes)\n",
    "    X_new = np.random.rand(1, len(bounds))\n",
    "    Y_new = np.random.rand()  # Random output value\n",
    "    \n",
    "    # Update the model with the new experimental data\n",
    "    opt_model.update_model(X_new, Y_new)\n",
    "    \n",
    "# Suggest the next location for experimentation\n",
    "next_location = opt_model.suggest_next_location()\n",
    "\n",
    "print(\"Initial Design:\")\n",
    "print(initial_design)\n",
    "print(\"\\nNext Location for Experimentation:\")\n",
    "print(next_location)"
   ]
  }
 ],
 "metadata": {
  "kernelspec": {
   "display_name": "Python 3.9.12 ('base')",
   "language": "python",
   "name": "python3"
  },
  "language_info": {
   "codemirror_mode": {
    "name": "ipython",
    "version": 3
   },
   "file_extension": ".py",
   "mimetype": "text/x-python",
   "name": "python",
   "nbconvert_exporter": "python",
   "pygments_lexer": "ipython3",
   "version": "3.9.12"
  },
  "vscode": {
   "interpreter": {
    "hash": "be44935fcddb7a5b39cc12a7076549386e43a478b7f2a324b7f9efaa2ae6c3ab"
   }
  }
 },
 "nbformat": 4,
 "nbformat_minor": 2
}
